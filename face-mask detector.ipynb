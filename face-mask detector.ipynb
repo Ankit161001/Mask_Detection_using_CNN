{
 "cells": [
  {
   "cell_type": "code",
   "execution_count": 1,
   "metadata": {},
   "outputs": [],
   "source": [
    "# Building the CNN\n",
    "import keras\n",
    "import PIL"
   ]
  },
  {
   "cell_type": "code",
   "execution_count": 2,
   "metadata": {},
   "outputs": [],
   "source": [
    "#importing all the required modules\n",
    "from keras.models import Sequential\n",
    "from keras.layers import Conv2D\n",
    "from keras.layers import MaxPooling2D\n",
    "from keras.layers import Flatten\n",
    "from keras.layers import Dense, Dropout"
   ]
  },
  {
   "cell_type": "code",
   "execution_count": 3,
   "metadata": {},
   "outputs": [],
   "source": [
    "# Initialising the CNN\n",
    "Classification=Sequential()"
   ]
  },
  {
   "cell_type": "code",
   "execution_count": 4,
   "metadata": {},
   "outputs": [],
   "source": [
    "# Step 1 - Convolution\n",
    "Classification.add(Conv2D(32,(3,3),input_shape=(64,64,3),activation='relu'))"
   ]
  },
  {
   "cell_type": "code",
   "execution_count": 5,
   "metadata": {},
   "outputs": [],
   "source": [
    "# Step 2 - Pooling\n",
    "Classification.add(MaxPooling2D(pool_size=(2,2)))"
   ]
  },
  {
   "cell_type": "code",
   "execution_count": 6,
   "metadata": {},
   "outputs": [],
   "source": [
    "#adding another convolution layer to improve the accuracy\n",
    "Classification.add(Conv2D(16,(3,3),activation='relu'))\n",
    "Classification.add(MaxPooling2D(pool_size=(2,2)))"
   ]
  },
  {
   "cell_type": "code",
   "execution_count": 7,
   "metadata": {},
   "outputs": [],
   "source": [
    "# Step 3 - Flattening\n",
    "Classification.add(Flatten())"
   ]
  },
  {
   "cell_type": "code",
   "execution_count": 9,
   "metadata": {},
   "outputs": [],
   "source": [
    "# Step 4 - Full connection\n",
    "Classification.add(Dense(units=128, activation='relu'))\n",
    "Classification.add(Dropout(0.6))\n",
    "Classification.add(Dense(units=64, activation='relu'))\n",
    "Classification.add(Dropout(0.3))\n",
    "Classification.add(Dense(units=1, activation='sigmoid'))"
   ]
  },
  {
   "cell_type": "code",
   "execution_count": 10,
   "metadata": {},
   "outputs": [
    {
     "name": "stdout",
     "output_type": "stream",
     "text": [
      "Model: \"sequential\"\n",
      "_________________________________________________________________\n",
      "Layer (type)                 Output Shape              Param #   \n",
      "=================================================================\n",
      "conv2d (Conv2D)              (None, 62, 62, 32)        896       \n",
      "_________________________________________________________________\n",
      "max_pooling2d (MaxPooling2D) (None, 31, 31, 32)        0         \n",
      "_________________________________________________________________\n",
      "conv2d_1 (Conv2D)            (None, 29, 29, 16)        4624      \n",
      "_________________________________________________________________\n",
      "max_pooling2d_1 (MaxPooling2 (None, 14, 14, 16)        0         \n",
      "_________________________________________________________________\n",
      "flatten (Flatten)            (None, 3136)              0         \n",
      "_________________________________________________________________\n",
      "dense (Dense)                (None, 128)               401536    \n",
      "_________________________________________________________________\n",
      "dense_1 (Dense)              (None, 128)               16512     \n",
      "_________________________________________________________________\n",
      "dropout (Dropout)            (None, 128)               0         \n",
      "_________________________________________________________________\n",
      "dense_2 (Dense)              (None, 64)                8256      \n",
      "_________________________________________________________________\n",
      "dropout_1 (Dropout)          (None, 64)                0         \n",
      "_________________________________________________________________\n",
      "dense_3 (Dense)              (None, 1)                 65        \n",
      "=================================================================\n",
      "Total params: 431,889\n",
      "Trainable params: 431,889\n",
      "Non-trainable params: 0\n",
      "_________________________________________________________________\n"
     ]
    }
   ],
   "source": [
    "Classification.summary()"
   ]
  },
  {
   "cell_type": "code",
   "execution_count": 11,
   "metadata": {},
   "outputs": [],
   "source": [
    "# Compiling the CNN\n",
    "Classification.compile(optimizer ='adam',loss='binary_crossentropy',metrics=['accuracy'])"
   ]
  },
  {
   "cell_type": "code",
   "execution_count": 13,
   "metadata": {},
   "outputs": [],
   "source": [
    "#fit CNN to images\n",
    "from keras.preprocessing.image import ImageDataGenerator\n",
    "\n",
    "train_datagen = ImageDataGenerator(rescale = 1./255,\n",
    "                                   shear_range = 0.2,\n",
    "                                   zoom_range = 0.2,\n",
    "                                   horizontal_flip = True)\n",
    "\n",
    "test_datagen = ImageDataGenerator(rescale = 1./255)"
   ]
  },
  {
   "cell_type": "code",
   "execution_count": 14,
   "metadata": {},
   "outputs": [
    {
     "name": "stdout",
     "output_type": "stream",
     "text": [
      "Found 1376 images belonging to 2 classes.\n"
     ]
    }
   ],
   "source": [
    "#the training set\n",
    "training_set = train_datagen.flow_from_directory('dataset/train_set',\n",
    "                                                 target_size = (64, 64),\n",
    "                                                 batch_size = 32,\n",
    "                                                 class_mode = 'binary')"
   ]
  },
  {
   "cell_type": "code",
   "execution_count": 15,
   "metadata": {},
   "outputs": [
    {
     "name": "stdout",
     "output_type": "stream",
     "text": [
      "Found 336 images belonging to 2 classes.\n"
     ]
    }
   ],
   "source": [
    "#the test set\n",
    "test_set = test_datagen.flow_from_directory('dataset/test_set',\n",
    "                                            target_size = (64, 64),\n",
    "                                            batch_size = 32,\n",
    "                                            class_mode = 'binary')"
   ]
  },
  {
   "cell_type": "code",
   "execution_count": 19,
   "metadata": {},
   "outputs": [
    {
     "name": "stdout",
     "output_type": "stream",
     "text": [
      "Epoch 1/5\n",
      "43/43 [==============================] - 7s 152ms/step - loss: 0.1252 - accuracy: 0.9586 - val_loss: 0.1056 - val_accuracy: 0.9643\n",
      "Epoch 2/5\n",
      "43/43 [==============================] - 6s 143ms/step - loss: 0.1163 - accuracy: 0.9622 - val_loss: 0.0878 - val_accuracy: 0.9643\n",
      "Epoch 3/5\n",
      "43/43 [==============================] - 6s 151ms/step - loss: 0.1019 - accuracy: 0.9702 - val_loss: 0.0534 - val_accuracy: 0.9732\n",
      "Epoch 4/5\n",
      "43/43 [==============================] - 7s 155ms/step - loss: 0.0644 - accuracy: 0.9775 - val_loss: 0.0407 - val_accuracy: 0.9792\n",
      "Epoch 5/5\n",
      "43/43 [==============================] - 7s 152ms/step - loss: 0.0542 - accuracy: 0.9789 - val_loss: 0.0364 - val_accuracy: 0.9881\n"
     ]
    },
    {
     "data": {
      "text/plain": [
       "<tensorflow.python.keras.callbacks.History at 0x2908a8ba2c8>"
      ]
     },
     "execution_count": 19,
     "metadata": {},
     "output_type": "execute_result"
    }
   ],
   "source": [
    "Classification.fit_generator(training_set,\n",
    "                         steps_per_epoch = 1376/32,\n",
    "                         epochs = 5,\n",
    "                         validation_data = test_set,\n",
    "                         validation_steps = 336/32)"
   ]
  },
  {
   "cell_type": "code",
   "execution_count": 25,
   "metadata": {},
   "outputs": [
    {
     "name": "stdout",
     "output_type": "stream",
     "text": [
      "without mask\n"
     ]
    }
   ],
   "source": [
    "# predictions for face without mask using train model\n",
    "import numpy as np\n",
    "from keras.preprocessing import image\n",
    "tested_image = image.load_img('dataset/detect/girl.jpeg',target_size=(64,64))\n",
    "tested_image = image.img_to_array(tested_image)\n",
    "tested_image = np.expand_dims(tested_image,axis = 0)\n",
    "output = Classification.predict(tested_image)\n",
    "training_set.class_indices\n",
    "if output[0][0] ==1:\n",
    "  prediction = 'without mask'\n",
    "  print(prediction )\n",
    "else:\n",
    "  prediction = 'with mask'\n",
    "  print(prediction )"
   ]
  },
  {
   "cell_type": "code",
   "execution_count": 23,
   "metadata": {},
   "outputs": [
    {
     "name": "stdout",
     "output_type": "stream",
     "text": [
      "with mask\n"
     ]
    }
   ],
   "source": [
    "# predictions for face with mask image using train model\n",
    "import numpy as np\n",
    "from keras.preprocessing import image\n",
    "tested_image = image.load_img('dataset/detect/mask_girl.jpg',target_size=(64,64))\n",
    "tested_image = image.img_to_array(tested_image)\n",
    "tested_image = np.expand_dims(tested_image,axis = 0)\n",
    "output = Classification.predict(tested_image)\n",
    "training_set.class_indices\n",
    "if output[0][0] ==1:\n",
    "  prediction = 'without mask'\n",
    "  print(prediction )\n",
    "else:\n",
    "  prediction = 'with mask'\n",
    "  print(prediction )"
   ]
  },
  {
   "cell_type": "code",
   "execution_count": null,
   "metadata": {},
   "outputs": [],
   "source": []
  }
 ],
 "metadata": {
  "kernelspec": {
   "display_name": "Python 3",
   "language": "python",
   "name": "python3"
  },
  "language_info": {
   "codemirror_mode": {
    "name": "ipython",
    "version": 3
   },
   "file_extension": ".py",
   "mimetype": "text/x-python",
   "name": "python",
   "nbconvert_exporter": "python",
   "pygments_lexer": "ipython3",
   "version": "3.7.4"
  }
 },
 "nbformat": 4,
 "nbformat_minor": 2
}
